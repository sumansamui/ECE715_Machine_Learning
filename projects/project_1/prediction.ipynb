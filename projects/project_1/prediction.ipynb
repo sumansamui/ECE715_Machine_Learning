{
 "cells": [
  {
   "cell_type": "code",
   "execution_count": 1,
   "id": "ef4da4f3",
   "metadata": {},
   "outputs": [],
   "source": [
    "import pickle\n",
    "\n",
    "import numpy as np\n",
    "\n",
    "from sklearn.preprocessing import StandardScaler"
   ]
  },
  {
   "cell_type": "code",
   "execution_count": 2,
   "id": "f9eaceef",
   "metadata": {},
   "outputs": [],
   "source": [
    "ML_model = pickle.load(open('model.pkl', 'rb'))"
   ]
  },
  {
   "cell_type": "code",
   "execution_count": 14,
   "id": "1649bf75",
   "metadata": {},
   "outputs": [],
   "source": [
    "scaler = pickle.load(open('scaler.pkl', 'rb'))"
   ]
  },
  {
   "cell_type": "code",
   "execution_count": 13,
   "id": "61079d33",
   "metadata": {},
   "outputs": [
    {
     "name": "stdout",
     "output_type": "stream",
     "text": [
      "Welcome to Diabetes prediction system!\n",
      "please enter your features/attributes, so that model can predict\n",
      "Number of times pregnant:0\n",
      "Plasma glucose concentration:40\n",
      "Diastolic blood pressure:120\n",
      "Triceps skin fold thickness:3\n",
      "2-Hour serum insulin:50\n",
      "Body mass index:80\n",
      "Diabetes pedigree function:0.5\n",
      "Age (years):40\n",
      "[[0. 0. 0. 0. 0. 0. 0. 0.]]\n",
      "[1]\n",
      "The person is diabetic\n"
     ]
    }
   ],
   "source": [
    "print(\"Welcome to Diabetes prediction system!\")\n",
    "\n",
    "print('please enter your features/attributes, so that model can predict')\n",
    "\n",
    "a=input(\"Number of times pregnant:\")\n",
    "\n",
    "b=input(\"Plasma glucose concentration:\")\n",
    "\n",
    "c=input(\"Diastolic blood pressure:\")\n",
    "\n",
    "d=input(\"Triceps skin fold thickness:\")\n",
    "\n",
    "e=input(\"2-Hour serum insulin:\")\n",
    "\n",
    "f=input(\"Body mass index:\")\n",
    "\n",
    "g=input(\"Diabetes pedigree function:\")\n",
    "\n",
    "h=input(\"Age (years):\")\n",
    "\n",
    "\n",
    "#input_data = (a,b,c,d,e,f,g,h)\n",
    "\n",
    "# changing the input_data to numpy array\n",
    "input_data_as_numpy_array = np.asarray([a,b,c,d,e,f,g,h])\n",
    "\n",
    "# reshape the array as we are predicting for one instance\n",
    "input_data_reshaped = input_data_as_numpy_array.reshape(1,-1)\n",
    "\n",
    "# standardize the input data\n",
    "std_data = scaler.transform(input_data_reshaped)\n",
    "print(std_data)80\n",
    "\n",
    "prediction = ML_model.predict(std_data)\n",
    "print(prediction)\n",
    "\n",
    "if (prediction[0] == 0):\n",
    "  print('The person is not diabetic')\n",
    "else:\n",
    "  print('The person is diabetic')"
   ]
  },
  {
   "cell_type": "code",
   "execution_count": 16,
   "id": "2be7d19c",
   "metadata": {},
   "outputs": [
    {
     "name": "stdout",
     "output_type": "stream",
     "text": [
      "[[-1.19639578 -2.62258088  2.629074   -1.08556126 -0.26681078  6.14171194\n",
      "   0.03404044  0.5246363 ]]\n",
      "[1]\n",
      "The person is diabetic\n"
     ]
    },
    {
     "name": "stderr",
     "output_type": "stream",
     "text": [
      "C:\\Users\\samui\\anaconda3\\envs\\ece715_projects\\lib\\site-packages\\sklearn\\base.py:464: UserWarning: X does not have valid feature names, but StandardScaler was fitted with feature names\n",
      "  warnings.warn(\n"
     ]
    }
   ],
   "source": [
    "# standardize the input data\n",
    "std_data = scaler.transform(input_data_reshaped)\n",
    "print(std_data)\n",
    "\n",
    "prediction = ML_model.predict(std_data)\n",
    "print(prediction)\n",
    "\n",
    "if (prediction[0] == 0):\n",
    "  print('The person is not diabetic')\n",
    "else:\n",
    "  print('The person is diabetic')"
   ]
  },
  {
   "cell_type": "code",
   "execution_count": null,
   "id": "3ef94c03",
   "metadata": {},
   "outputs": [],
   "source": []
  }
 ],
 "metadata": {
  "kernelspec": {
   "display_name": "Python [conda env:ece715_projects]",
   "language": "python",
   "name": "conda-env-ece715_projects-py"
  },
  "language_info": {
   "codemirror_mode": {
    "name": "ipython",
    "version": 3
   },
   "file_extension": ".py",
   "mimetype": "text/x-python",
   "name": "python",
   "nbconvert_exporter": "python",
   "pygments_lexer": "ipython3",
   "version": "3.10.12"
  }
 },
 "nbformat": 4,
 "nbformat_minor": 5
}
