{
 "cells": [
  {
   "cell_type": "code",
   "execution_count": 1,
   "id": "74342bb1",
   "metadata": {},
   "outputs": [],
   "source": [
    "import pickle\n",
    "\n",
    "import numpy as np"
   ]
  },
  {
   "cell_type": "code",
   "execution_count": 2,
   "id": "19ecc910",
   "metadata": {},
   "outputs": [],
   "source": [
    "ML_model = pickle.load(open('model.pkl', 'rb'))\n",
    "\n",
    "scaler = pickle.load(open('scaler.pkl', 'rb'))\n",
    "\n",
    "ohe_encoder = pickle.load(open('ohe_encoder.pkl', 'rb'))"
   ]
  },
  {
   "cell_type": "code",
   "execution_count": 4,
   "id": "fbc5a127",
   "metadata": {},
   "outputs": [
    {
     "name": "stdout",
     "output_type": "stream",
     "text": [
      "[1]\n",
      "placed\n"
     ]
    },
    {
     "name": "stderr",
     "output_type": "stream",
     "text": [
      "C:\\Users\\samui\\anaconda3\\envs\\ece715_projects\\lib\\site-packages\\sklearn\\base.py:464: UserWarning: X does not have valid feature names, but StandardScaler was fitted with feature names\n",
      "  warnings.warn(\n",
      "C:\\Users\\samui\\anaconda3\\envs\\ece715_projects\\lib\\site-packages\\sklearn\\base.py:464: UserWarning: X does not have valid feature names, but OneHotEncoder was fitted with feature names\n",
      "  warnings.warn(\n",
      "C:\\Users\\samui\\anaconda3\\envs\\ece715_projects\\lib\\site-packages\\sklearn\\preprocessing\\_encoders.py:227: UserWarning: Found unknown categories in columns [0] during transform. These unknown categories will be encoded as all zeros\n",
      "  warnings.warn(\n"
     ]
    }
   ],
   "source": [
    "#scaled_columns, encoded_columns,df[unaltered_columns]\n",
    "\n",
    "a=28\n",
    "b=8\n",
    "c=0\n",
    "e='male'\n",
    "f='Mechanical'\n",
    "g=0\n",
    "h=1\n",
    "\n",
    "feat_to_be_scaled=np.asarray([a,b,c]).reshape(1,-1)\n",
    "\n",
    "scaled_feat = scaler.transform(feat_to_be_scaled)\n",
    "\n",
    "feat_to_be_encoded=np.array([e,f]).reshape(1,-1)\n",
    "\n",
    "encoded_feat=ohe_encoder.transform(feat_to_be_encoded)\n",
    "\n",
    "unaltered_feat=np.asarray([g,h]).reshape(1,-1)\n",
    "\n",
    "input_features = np.concatenate([scaled_feat ,encoded_feat,unaltered_feat], axis=1)\n",
    "\n",
    "prediction = ML_model.predict(input_features)\n",
    "print(prediction)\n",
    "\n",
    "if (prediction[0] == 0):\n",
    "  print('not placed')\n",
    "else:\n",
    "  print('placed')"
   ]
  },
  {
   "cell_type": "code",
   "execution_count": null,
   "id": "e1b480fb",
   "metadata": {},
   "outputs": [],
   "source": []
  }
 ],
 "metadata": {
  "kernelspec": {
   "display_name": "Python [conda env:ece715_projects]",
   "language": "python",
   "name": "conda-env-ece715_projects-py"
  },
  "language_info": {
   "codemirror_mode": {
    "name": "ipython",
    "version": 3
   },
   "file_extension": ".py",
   "mimetype": "text/x-python",
   "name": "python",
   "nbconvert_exporter": "python",
   "pygments_lexer": "ipython3",
   "version": "3.10.12"
  }
 },
 "nbformat": 4,
 "nbformat_minor": 5
}
